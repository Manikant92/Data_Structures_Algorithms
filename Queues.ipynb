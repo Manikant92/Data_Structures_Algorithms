{
 "cells": [
  {
   "cell_type": "code",
   "execution_count": 32,
   "metadata": {
    "collapsed": true
   },
   "outputs": [],
   "source": [
    "class Queue:\n",
    "    \n",
    "    def __init__(self):\n",
    "        self.array = []\n",
    "    \n",
    "    def enqueue(self, ele):\n",
    "        self.array.insert(0,ele)\n",
    "        print('Element is Enqueued!!')\n",
    "    def dequeue(self):\n",
    "        if self.array:\n",
    "            self.array.pop(len(self.array)-1)\n",
    "        else:\n",
    "            print('Queue is Empty!!')\n",
    "    def front(self):\n",
    "        if self.array:\n",
    "            print('Element at Front: ', self.array[len(self.array)-1])\n",
    "        else:\n",
    "            print('No Elements present in Queue!!')\n",
    "    def is_empty(self):\n",
    "        if self.array:\n",
    "            print('Queue is not Empty!')\n",
    "        else:\n",
    "            print('Queue is Empty!')\n",
    "    def back(self):\n",
    "        if self.array:\n",
    "            print('Element at Back: ', self.array[0])\n",
    "        else:\n",
    "            print('Queue is Empty!!')\n"
   ]
  },
  {
   "cell_type": "code",
   "execution_count": 33,
   "metadata": {
    "collapsed": true
   },
   "outputs": [],
   "source": [
    "que = Queue()"
   ]
  },
  {
   "cell_type": "code",
   "execution_count": 34,
   "metadata": {},
   "outputs": [
    {
     "name": "stdout",
     "output_type": "stream",
     "text": [
      "Element is Enqueued!!\n"
     ]
    }
   ],
   "source": [
    "que.enqueue(5)"
   ]
  },
  {
   "cell_type": "code",
   "execution_count": 44,
   "metadata": {},
   "outputs": [
    {
     "data": {
      "text/plain": [
       "[32, 25, 23, 13]"
      ]
     },
     "execution_count": 44,
     "metadata": {},
     "output_type": "execute_result"
    }
   ],
   "source": [
    "que.array"
   ]
  },
  {
   "cell_type": "code",
   "execution_count": 42,
   "metadata": {},
   "outputs": [
    {
     "name": "stdout",
     "output_type": "stream",
     "text": [
      "Element is Enqueued!!\n"
     ]
    }
   ],
   "source": [
    "que.enqueue(32)"
   ]
  },
  {
   "cell_type": "code",
   "execution_count": 45,
   "metadata": {},
   "outputs": [],
   "source": [
    "que.dequeue()"
   ]
  },
  {
   "cell_type": "code",
   "execution_count": 46,
   "metadata": {},
   "outputs": [
    {
     "data": {
      "text/plain": [
       "[32, 25, 23]"
      ]
     },
     "execution_count": 46,
     "metadata": {},
     "output_type": "execute_result"
    }
   ],
   "source": [
    "que.array"
   ]
  },
  {
   "cell_type": "code",
   "execution_count": 47,
   "metadata": {},
   "outputs": [
    {
     "name": "stdout",
     "output_type": "stream",
     "text": [
      "Element at Front:  23\n"
     ]
    }
   ],
   "source": [
    "que.front()"
   ]
  },
  {
   "cell_type": "code",
   "execution_count": 48,
   "metadata": {},
   "outputs": [
    {
     "name": "stdout",
     "output_type": "stream",
     "text": [
      "Element at Back:  32\n"
     ]
    }
   ],
   "source": [
    "que.back()"
   ]
  },
  {
   "cell_type": "code",
   "execution_count": 58,
   "metadata": {
    "collapsed": true
   },
   "outputs": [],
   "source": [
    "class Queues:\n",
    "    \n",
    "    def __init__(self):\n",
    "        self.array = []\n",
    "    \n",
    "    def enqueue(self, ele):\n",
    "        # self.array.insert(0,ele)\n",
    "        self.array.append(ele)\n",
    "        print('Element is Enqueued!!')\n",
    "    def dequeue(self):\n",
    "        if self.array:\n",
    "            self.array.pop(0)\n",
    "        else:\n",
    "            print('Queue is Empty!!')\n",
    "    def front(self):\n",
    "        if self.array:\n",
    "            print('Element at Front: ', self.array[len(self.array)-1])\n",
    "        else:\n",
    "            print('No Elements present in Queue!!')\n",
    "    def is_empty(self):\n",
    "        if self.array:\n",
    "            print('Queue is not Empty!')\n",
    "        else:\n",
    "            print('Queue is Empty!')\n",
    "    def back(self):\n",
    "        if self.array:\n",
    "            print('Element at Back: ', self.array[0])\n",
    "        else:\n",
    "            print('Queue is Empty!!')\n"
   ]
  },
  {
   "cell_type": "code",
   "execution_count": 59,
   "metadata": {
    "collapsed": true
   },
   "outputs": [],
   "source": [
    "queue = Queues()"
   ]
  },
  {
   "cell_type": "code",
   "execution_count": 78,
   "metadata": {},
   "outputs": [
    {
     "name": "stdout",
     "output_type": "stream",
     "text": [
      "Element is Enqueued!!\n"
     ]
    }
   ],
   "source": [
    "queue.enqueue(10)"
   ]
  },
  {
   "cell_type": "code",
   "execution_count": 79,
   "metadata": {},
   "outputs": [
    {
     "data": {
      "text/plain": [
       "[3, 4, 10]"
      ]
     },
     "execution_count": 79,
     "metadata": {},
     "output_type": "execute_result"
    }
   ],
   "source": [
    "queue.array"
   ]
  },
  {
   "cell_type": "code",
   "execution_count": 80,
   "metadata": {},
   "outputs": [
    {
     "name": "stdout",
     "output_type": "stream",
     "text": [
      "Element at Front:  10\n"
     ]
    }
   ],
   "source": [
    "queue.front()"
   ]
  },
  {
   "cell_type": "code",
   "execution_count": 81,
   "metadata": {},
   "outputs": [
    {
     "name": "stdout",
     "output_type": "stream",
     "text": [
      "Element at Back:  3\n"
     ]
    }
   ],
   "source": [
    "queue.back()"
   ]
  },
  {
   "cell_type": "code",
   "execution_count": 77,
   "metadata": {
    "collapsed": true
   },
   "outputs": [],
   "source": [
    "queue.dequeue()"
   ]
  },
  {
   "cell_type": "code",
   "execution_count": null,
   "metadata": {
    "collapsed": true
   },
   "outputs": [],
   "source": []
  }
 ],
 "metadata": {
  "kernelspec": {
   "display_name": "Python 3",
   "language": "python",
   "name": "python3"
  },
  "language_info": {
   "codemirror_mode": {
    "name": "ipython",
    "version": 3
   },
   "file_extension": ".py",
   "mimetype": "text/x-python",
   "name": "python",
   "nbconvert_exporter": "python",
   "pygments_lexer": "ipython3",
   "version": "3.6.1"
  }
 },
 "nbformat": 4,
 "nbformat_minor": 2
}
